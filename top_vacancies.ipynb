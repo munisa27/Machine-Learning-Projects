{
  "nbformat": 4,
  "nbformat_minor": 0,
  "metadata": {
    "colab": {
      "provenance": []
    },
    "kernelspec": {
      "name": "python3",
      "display_name": "Python 3"
    },
    "language_info": {
      "name": "python"
    }
  },
  "cells": [
    {
      "cell_type": "markdown",
      "source": [
        "Загрузить список из 1000 вакансий программиста для Москвы и Санкт-Петербурга с api HH. Вакансия должна содержать id вакансии, название, зарплату от, зарплату до, валюту зарплаты, включение налога, город, название компании, обязанности и требования.\n",
        "Используя список вакансии в обязанностях выявить список из 5 наиболее частых слов, и с помощью множеств оставить только те вакансии, которые их содержат"
      ],
      "metadata": {
        "id": "oB4ERJhg6Fhy"
      }
    },
    {
      "cell_type": "code",
      "execution_count": null,
      "metadata": {
        "colab": {
          "base_uri": "https://localhost:8080/"
        },
        "id": "d77FqiZo1l2X",
        "outputId": "4384bfb5-eebb-4ff7-b738-009cbce2ead9"
      },
      "outputs": [
        {
          "output_type": "stream",
          "name": "stdout",
          "text": [
            "Middle .NET C# разработчик\n",
            "Node.js Backend Разработчик\n",
            "Программист-технолог\n",
            "Frontend-разработчик\n",
            "Фронт Разработчик/Frontend developer React\n",
            "Python Developer (Атом.Око)\n"
          ]
        }
      ],
      "source": [
        "import requests\n",
        "import re\n",
        "\n",
        "salary = lambda x: [x['salary']['from'], x['salary']['to'], x['salary']['currency'], x['salary']['gross']] if x['salary'] is not None else [None] * 4\n",
        "snippet = lambda x: [x['snippet']['requirement'], x['snippet']['responsibility']] if not None else [None] * 2\n",
        "\n",
        "vac = []\n",
        "\n",
        "for i in range(10):\n",
        "    url = 'https://api.hh.ru/vacancies?text=%D0%9F%D1%80%D0%BE%D0%B3%D1%80%D0%B0%D0%BC%D0%BC%D0%B8%D1%81%D1%82&per_page=100&area=1&area=2&page={}'.format(str(i))\n",
        "    vac += [[x['id'], x['name']] + salary(x) + [x['employer']['name']] + [x['area']['name']] + snippet(x) for x in requests.get(url).json()['items']]\n",
        "\n",
        "words = {}\n",
        "marks = '''!()-[];?@#$%:'\"\\,./^&amp;*_'''\n",
        "for one in vac:\n",
        "    if one[9] is None:\n",
        "        continue\n",
        "    else:\n",
        "        for word in one[9].split():\n",
        "            if word.isalpha():\n",
        "                if word.lower() in words:\n",
        "                    words[word.lower()] += 1\n",
        "                else:\n",
        "                    words[word.lower()] = 1\n",
        "            else:\n",
        "                for elem in marks:\n",
        "                    word = word.replace(elem, '')\n",
        "                if word.isalpha():\n",
        "                    if word.lower() in words:\n",
        "                        words[word.lower()] += 1\n",
        "                    else:\n",
        "                        words[word.lower()] = 1\n",
        "suitable = []\n",
        "sorted_keys = sorted(words, key=words.get, reverse=True)\n",
        "sorted_keys = sorted_keys[:5]\n",
        "for one in vac:\n",
        "    if one[9] is None:\n",
        "        continue\n",
        "    else:\n",
        "        prom = re.split('[,:;.!]', one[9])\n",
        "        prom_1 = ''.join(prom).split()\n",
        "        prom_2 = list(map(lambda x: x.lower(), prom_1))\n",
        "        sett = set(prom_2)\n",
        "        if sett.intersection(set(sorted_keys)) == set(sorted_keys):\n",
        "            suitable.append(one[1])\n",
        "print(*suitable, sep='\\n')"
      ]
    }
  ]
}